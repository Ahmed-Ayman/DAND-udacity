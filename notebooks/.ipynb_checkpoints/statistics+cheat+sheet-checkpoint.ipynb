{
 "cells": [
  {
   "cell_type": "markdown",
   "metadata": {},
   "source": [
    "\n",
    "# Statestics  & probability cheat sheet"
   ]
  },
  {
   "cell_type": "markdown",
   "metadata": {},
   "source": [
    "**Range**\n",
    "$$\n",
    "max - min\n",
    "$$"
   ]
  },
  {
   "cell_type": "markdown",
   "metadata": {},
   "source": [
    "**Quartiles and percentiles**\n",
    "* Quartiles are the values that divide a list of numbers into quarters.\n",
    "\n",
    "  * Q1 = the value that has the first quarter of the data below it.\n",
    "  * Q2 = the median point.\n",
    "  * Q3 = 75% of the data are below it.\n",
    "**Percentiles** \n",
    "* is the value below which a percentage of data falls.\n",
    "  * for example the 75th percentile means that there are 75% of the data below this value."
   ]
  },
  {
   "cell_type": "markdown",
   "metadata": {},
   "source": [
    "**Standard Deviation**\n",
    "\n",
    "population :- \n",
    "![mean of a population](https://www.mathsisfun.com/data/images/standard-deviation-formula.gif)\n",
    "Sample :-\n",
    "![mean of a sample](https://www.mathsisfun.com/data/images/standard-deviation-sample.gif)"
   ]
  },
  {
   "cell_type": "markdown",
   "metadata": {},
   "source": [
    "**Univariate data** uses {Bar Graphs, Pie Charts and Histograms} and we can Find a central value using mean, median and mode\n",
    "Find how spread out it is using range, quartiles and standard deviation \n",
    "\n",
    "**Bivariate Data** two variables ..eg sales vs temperature We can use Tables, Scatter Plots, Correlation, Line of Best Fit, and plain old common sense."
   ]
  },
  {
   "cell_type": "markdown",
   "metadata": {},
   "source": [
    "**Probability** : How likely something is to happen.\n",
    "\n",
    "A => event.\n",
    "\n",
    "B => sample space.\n",
    "\n",
    "then the P(A) = Number of occurrences of A / # of sample points in the sample space\n",
    "\n",
    "**Mutually Exclusive**\n",
    "\n",
    "   > A and B together is impossible: P(A and B) = 0\n",
    "   \n",
    "   \n",
    "   > A or B is the sum of A and B: P(A or B) = P(A) + P(B)\n",
    "\n",
    "**Not Mutually Exclusive**\n",
    "\n",
    "   > A or B is the sum of A and B minus A and B: P(A or B) = P(A) + P(B) − P(A and B)\n",
    "\n"
   ]
  },
  {
   "cell_type": "markdown",
   "metadata": {},
   "source": [
    "**basic Counting** : \n",
    "you have N choices of doing something and M of doing some other independent thing then you have N*M choices \n",
    "\n",
    "Example : dress options .. 3 red 2 blue 3 pants = > 3 \\* 2 \\* 3 choices.\n"
   ]
  },
  {
   "cell_type": "markdown",
   "metadata": {},
   "source": [
    "**conditional probability** :\n",
    "the first event is dependant on the previous one..\n",
    "\n",
    "![dependant events](https://www.mathsisfun.com/data/images/probability-independent-formula2.gif)\n",
    "\n",
    "example : probability of being a goalkeper depends on the coach today (sam and alex).\n",
    "![maths is fun](https://www.mathsisfun.com/data/images/tree-diagram-ex1-6.svg)\n",
    "\n",
    "so, 0.3 + 0.12 = 0.42 probability of being a Goalkeeper today"
   ]
  },
  {
   "cell_type": "markdown",
   "metadata": {},
   "source": [
    "**Bayes Theorem** \n",
    "\n",
    "![bayes](http://www.mathopolis.com/questions/latex/2/4/69fa6d7abf311fd60921aea8644e121.svg)\n",
    "\n",
    "75% of the children in Exton school have a dog, and 30% have a cat.\n",
    "Given that 60% of those that have cat also have a dog, what percent of those that have a dog also have a cat?\n",
    "\n",
    " A = Have a cat and B = Have a dog\n",
    " \n",
    " Use Bayes' Theorem:\n",
    "\n",
    "P(A) = 30% = 0.3\n",
    "\n",
    "P(B) = 75% = 0.75\n",
    "\n",
    "P(B|A) = 60% = 0.6\n",
    "\n",
    "\n",
    "![](http://www.mathopolis.com/questions/latex/9/7/588f27db5c8d09575ea41e4dc7ceb21.svg)\n",
    "    \n",
    "think \"AB AB AB\"\n",
    "\n",
    "\n",
    "----\n",
    "another example \n",
    "\n",
    "A test for a disease gives a correct positive result with a probability of 0.95 when the disease  is present, but gives an incorrect positive result (false positive) with a probability of 0.15 when the disease is not present.\n",
    "\n",
    "If 5% of the population has the disease, and Jean tests positive to the test, what is the probability Jean really has the disease?\n",
    "\n",
    "Let A = A patient really has the disease and B = A patient tests positive\n",
    "\n",
    "Use Bayes' Theorem:\n",
    "$$\n",
    "P(A|B)=\\frac{P(A)P(B|A)}{P(B)}\n",
    "$$\n",
    "\n",
    "P(A) = 5% = 0.05\n",
    "\n",
    "P(B) = 5% × 0.95 + 95% × 0.15 = 0.0475 + 0.1425 = 0.19\n",
    "\n",
    "P(B|A) = 0.95\n",
    "\n",
    "$$\n",
    "\\text{Therefore}P(A|B)=\\frac{P(A)P(B|A)}{P(B)}=\\frac{005\\times095}{019}=\\frac{00475}{019}=025\n",
    "$$\n",
    "Therefore, the probability Jeanreally has the disease=025\n"
   ]
  },
  {
   "cell_type": "markdown",
   "metadata": {
    "collapsed": true
   },
   "source": [
    "** Bionomial distribution **"
   ]
  },
  {
   "cell_type": "code",
   "execution_count": 2,
   "metadata": {},
   "outputs": [
    {
     "data": {
      "text/plain": [
       "494"
      ]
     },
     "execution_count": 2,
     "metadata": {},
     "output_type": "execute_result"
    }
   ],
   "source": [
    "import numpy as np\n",
    "experiments = np.random.choice([0,1],size = 1000)\n",
    "experiments.sum()"
   ]
  }
 ],
 "metadata": {
  "kernelspec": {
   "display_name": "Python 3",
   "language": "python",
   "name": "python3"
  },
  "language_info": {
   "codemirror_mode": {
    "name": "ipython",
    "version": 3
   },
   "file_extension": ".py",
   "mimetype": "text/x-python",
   "name": "python",
   "nbconvert_exporter": "python",
   "pygments_lexer": "ipython3",
   "version": "3.6.3"
  }
 },
 "nbformat": 4,
 "nbformat_minor": 2
}
